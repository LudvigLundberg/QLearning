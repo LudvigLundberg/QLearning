{
 "cells": [
  {
   "cell_type": "code",
   "execution_count": 1,
   "metadata": {},
   "outputs": [],
   "source": [
    "from qlearning import QLearner\n",
    "from grid_world import GridWorld"
   ]
  },
  {
   "cell_type": "code",
   "execution_count": 2,
   "metadata": {},
   "outputs": [],
   "source": [
    "def newBoard(): \n",
    "    board = [   \n",
    "        1,0,0,0,0,\n",
    "        0,0,0,0,0,\n",
    "        0,0,0,0,0,\n",
    "        0,0,0,0,0,\n",
    "        0,0,0,0,0]\n",
    "\n",
    "    rewards = dict()\n",
    "    rewards[24] = 50\n",
    "    rewards[4] = -10\n",
    "    rewards[19] = -10\n",
    "\n",
    "    grid_world = GridWorld(board, rewards, 0, 24, 5, 5)\n",
    "    return grid_world"
   ]
  },
  {
   "cell_type": "code",
   "execution_count": 15,
   "metadata": {},
   "outputs": [
    {
     "name": "stdout",
     "output_type": "stream",
     "text": [
      "Episode: 1, total value: -5, actions: ['up']\n"
     ]
    }
   ],
   "source": [
    "learner = QLearner(['up', 'down', 'right', 'left'])\n",
    "\n",
    "for episode in range(1, 51):\n",
    "    totalValue = 0\n",
    "    actions = list()\n",
    "    world = newBoard()\n",
    "    learner.start_episode(world.current_state())\n",
    "\n",
    "    end = False\n",
    "    while end != True:\n",
    "        action = learner.act(world.current_state())\n",
    "        actions.append(action)\n",
    "        value, end = world.act(action)\n",
    "        totalValue += value\n",
    "        learner.reward(value, world.current_state())\n",
    "\n",
    "    learner.end_episode()\n",
    "    print(\"Episode: {}, total value: {}, actions: {}\".format(episode, totalValue, actions))"
   ]
  },
  {
   "cell_type": "code",
   "execution_count": null,
   "metadata": {},
   "outputs": [],
   "source": []
  }
 ],
 "metadata": {
  "interpreter": {
   "hash": "6ff61855343d3213d97de58b65477a4f2fcbf2e4e22d43727136a2ec5ea7db03"
  },
  "kernelspec": {
   "display_name": "Python 3.10.2 ('venv': venv)",
   "language": "python",
   "name": "python3"
  },
  "language_info": {
   "codemirror_mode": {
    "name": "ipython",
    "version": 3
   },
   "file_extension": ".py",
   "mimetype": "text/x-python",
   "name": "python",
   "nbconvert_exporter": "python",
   "pygments_lexer": "ipython3",
   "version": "3.10.2"
  },
  "orig_nbformat": 4
 },
 "nbformat": 4,
 "nbformat_minor": 2
}
