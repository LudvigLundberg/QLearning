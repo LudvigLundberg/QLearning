{
 "cells": [
  {
   "cell_type": "code",
   "execution_count": 1,
   "metadata": {},
   "outputs": [
    {
     "data": {
      "text/html": [
       "\n",
       "                <script type=\"application/javascript\" id=\"jupyter_black\">\n",
       "                (function() {\n",
       "                    if (window.IPython === undefined) {\n",
       "                        return\n",
       "                    }\n",
       "                    var msg = \"WARNING: it looks like you might have loaded \" +\n",
       "                        \"jupyter_black in a non-lab notebook with \" +\n",
       "                        \"`is_lab=True`. Please double check, and if \" +\n",
       "                        \"loading with `%load_ext` please review the README!\"\n",
       "                    console.log(msg)\n",
       "                    alert(msg)\n",
       "                })()\n",
       "                </script>\n",
       "                "
      ],
      "text/plain": [
       "<IPython.core.display.HTML object>"
      ]
     },
     "metadata": {},
     "output_type": "display_data"
    }
   ],
   "source": [
    "import jupyter_black\n",
    "\n",
    "jupyter_black.load()"
   ]
  },
  {
   "cell_type": "code",
   "execution_count": 2,
   "metadata": {},
   "outputs": [],
   "source": [
    "from qlearning import QLearner\n",
    "from grid_world import PickUpAndDeliver\n",
    "import pandas as pd\n",
    "import numpy as np"
   ]
  },
  {
   "cell_type": "code",
   "execution_count": 3,
   "metadata": {},
   "outputs": [],
   "source": [
    "def reward(current_state, previous_state):\n",
    "    position, damage, pickup = current_state\n",
    "    _, previous_damage, _ = previous_state\n",
    "\n",
    "    if damage == 5:\n",
    "        return np.array([-25, -25])\n",
    "    if position == 22 and pickup == True:\n",
    "        return np.array([50, 50])\n",
    "    if previous_damage < damage:\n",
    "        return np.array([-1, -10])\n",
    "    else:\n",
    "        return np.array([-1, 0])\n",
    "\n",
    "\n",
    "def update_state(state, actor_pos):\n",
    "    terminal = False\n",
    "    _, damage, pickup = state\n",
    "    damage_pos = [0, 1, 11, 12, 16, 18, 23, 25, 30, 36, 39]\n",
    "    if actor_pos in damage_pos:\n",
    "        damage += 1\n",
    "    if actor_pos == 19:\n",
    "        pickup = True\n",
    "    if (actor_pos == 22 and pickup) or damage == 5:\n",
    "        terminal = True\n",
    "    return (actor_pos, damage, pickup), terminal\n",
    "\n",
    "\n",
    "def env():\n",
    "    height = 6\n",
    "    width = 7\n",
    "    inital_state = (22, 0, False)\n",
    "    return PickUpAndDeliver(inital_state, reward, update_state, 22, height, width)"
   ]
  },
  {
   "cell_type": "code",
   "execution_count": 4,
   "metadata": {},
   "outputs": [],
   "source": [
    "def qlearner(\n",
    "    learning_rate=0.1,\n",
    "    discount_factor=0.9,\n",
    "    explore_rate=0.01,\n",
    "    weight_function=lambda x: x[0],\n",
    "    objective=0,\n",
    "):\n",
    "    learner = QLearner(\n",
    "        [\"up\", \"down\", \"right\", \"left\"],\n",
    "        learning_rate,\n",
    "        discount_factor,\n",
    "        explore_rate,\n",
    "        objectives=2,\n",
    "        weight_function=weight_function,\n",
    "    )\n",
    "    episodes = list()\n",
    "    for episode in range(1, 20000):\n",
    "        totalValue = 0\n",
    "        actions = list()\n",
    "        world = env()\n",
    "        learner.start_episode(world.current_state())\n",
    "\n",
    "        end = False\n",
    "        while end != True:\n",
    "            action = learner.act(world.current_state())\n",
    "            actions.append(action)\n",
    "            value, end = world.act(action)\n",
    "            totalValue += weight_function(value)\n",
    "            learner.reward(value, world.current_state())\n",
    "\n",
    "        learner.end_episode()\n",
    "        episodes.append((episode, totalValue, actions))\n",
    "    return learner, episodes\n",
    "\n",
    "\n",
    "def episodes_to_df(\n",
    "    episodes, columns=[\"episode\", \"total value\", \"actions\"]\n",
    ") -> pd.DataFrame:\n",
    "    return pd.DataFrame(episodes, columns=columns)\n",
    "\n",
    "\n",
    "def print_actions(episodes):\n",
    "    for episode, totalValue, actions in episodes:\n",
    "        print(\n",
    "            \"Episode: {}, total value: {}, actions: {}\".format(\n",
    "                episode, totalValue, actions\n",
    "            )\n",
    "        )"
   ]
  },
  {
   "cell_type": "code",
   "execution_count": 5,
   "metadata": {},
   "outputs": [],
   "source": [
    "q1, q1_episodes = qlearner(explore_rate=0.01, weight_function=lambda x: x[0])\n",
    "q1_df = episodes_to_df(q1_episodes)\n",
    "\n",
    "q2, q2_episodes = qlearner(weight_function=lambda x: x[1], explore_rate=0.01)\n",
    "q2_df = episodes_to_df(q2_episodes)\n",
    "\n",
    "q3, q3_episodes = qlearner(\n",
    "    weight_function=lambda x: 0.5 * x[0] + 0.5 * x[1], explore_rate=0.01\n",
    ")"
   ]
  },
  {
   "cell_type": "code",
   "execution_count": 26,
   "metadata": {},
   "outputs": [],
   "source": [
    "from matplotlib import pyplot\n",
    "\n",
    "params = {\n",
    "    \"legend.fontsize\": 20,\n",
    "    \"axes.labelsize\": 20,\n",
    "    \"axes.titlesize\": 20,\n",
    "    \"xtick.labelsize\": 20,\n",
    "    \"ytick.labelsize\": 20,\n",
    "    \"text.usetex\": True,\n",
    "}\n",
    "pyplot.rcParams.update(params)"
   ]
  },
  {
   "cell_type": "code",
   "execution_count": 116,
   "metadata": {},
   "outputs": [
    {
     "data": {
      "image/png": "[encoded data removed]",
      "text/plain": [
       "<Figure size 1080x360 with 1 Axes>"
      ]
     },
     "metadata": {},
     "output_type": "display_data"
    }
   ],
   "source": [
    "pyplot.figure(figsize=(15, 5))\n",
    "pyplot.plot(range(1, 20000), q1_df[\"total value\"], \"b.\")\n",
    "pyplot.ylabel(\"Total value\", fontsize=20)\n",
    "pyplot.xlabel(\"Episode\", fontsize=20)\n",
    "pyplot.subplots_adjust(bottom=0.15)\n",
    "pyplot.savefig(\"pick-up-training-speed-agent.png\", dpi=300)"
   ]
  },
  {
   "cell_type": "code",
   "execution_count": 32,
   "metadata": {},
   "outputs": [
    {
     "data": {
      "text/html": [
       "<div>\n",
       "<style scoped>\n",
       "    .dataframe tbody tr th:only-of-type {\n",
       "        vertical-align: middle;\n",
       "    }\n",
       "\n",
       "    .dataframe tbody tr th {\n",
       "        vertical-align: top;\n",
       "    }\n",
       "\n",
       "    .dataframe thead th {\n",
       "        text-align: right;\n",
       "    }\n",
       "</style>\n",
       "<table border=\"1\" class=\"dataframe\">\n",
       "  <thead>\n",
       "    <tr style=\"text-align: right;\">\n",
       "      <th></th>\n",
       "      <th>episode</th>\n",
       "      <th>total value</th>\n",
       "      <th>actions</th>\n",
       "    </tr>\n",
       "  </thead>\n",
       "  <tbody>\n",
       "    <tr>\n",
       "      <th>0</th>\n",
       "      <td>1</td>\n",
       "      <td>-75</td>\n",
       "      <td>[up, up, up, up, down, up, up, down, up, up, d...</td>\n",
       "    </tr>\n",
       "    <tr>\n",
       "      <th>1</th>\n",
       "      <td>2</td>\n",
       "      <td>-70</td>\n",
       "      <td>[down, up, right, up, up, up, up, down, down, ...</td>\n",
       "    </tr>\n",
       "    <tr>\n",
       "      <th>2</th>\n",
       "      <td>3</td>\n",
       "      <td>-76</td>\n",
       "      <td>[left, up, up, up, up, down, up, up, down, up,...</td>\n",
       "    </tr>\n",
       "    <tr>\n",
       "      <th>3</th>\n",
       "      <td>4</td>\n",
       "      <td>-70</td>\n",
       "      <td>[up, down, down, down, up, up, up, up, down, d...</td>\n",
       "    </tr>\n",
       "    <tr>\n",
       "      <th>4</th>\n",
       "      <td>5</td>\n",
       "      <td>-29</td>\n",
       "      <td>[right, down, up, up, down]</td>\n",
       "    </tr>\n",
       "    <tr>\n",
       "      <th>...</th>\n",
       "      <td>...</td>\n",
       "      <td>...</td>\n",
       "      <td>...</td>\n",
       "    </tr>\n",
       "    <tr>\n",
       "      <th>19994</th>\n",
       "      <td>19995</td>\n",
       "      <td>39</td>\n",
       "      <td>[right, right, right, up, right, left, left, u...</td>\n",
       "    </tr>\n",
       "    <tr>\n",
       "      <th>19995</th>\n",
       "      <td>19996</td>\n",
       "      <td>39</td>\n",
       "      <td>[right, right, right, up, right, left, left, u...</td>\n",
       "    </tr>\n",
       "    <tr>\n",
       "      <th>19996</th>\n",
       "      <td>19997</td>\n",
       "      <td>39</td>\n",
       "      <td>[right, right, right, up, right, left, left, u...</td>\n",
       "    </tr>\n",
       "    <tr>\n",
       "      <th>19997</th>\n",
       "      <td>19998</td>\n",
       "      <td>39</td>\n",
       "      <td>[right, right, right, up, right, left, left, u...</td>\n",
       "    </tr>\n",
       "    <tr>\n",
       "      <th>19998</th>\n",
       "      <td>19999</td>\n",
       "      <td>39</td>\n",
       "      <td>[right, right, right, up, right, left, left, u...</td>\n",
       "    </tr>\n",
       "  </tbody>\n",
       "</table>\n",
       "<p>19999 rows × 3 columns</p>\n",
       "</div>"
      ],
      "text/plain": [
       "       episode  total value                                            actions\n",
       "0            1          -75  [up, up, up, up, down, up, up, down, up, up, d...\n",
       "1            2          -70  [down, up, right, up, up, up, up, down, down, ...\n",
       "2            3          -76  [left, up, up, up, up, down, up, up, down, up,...\n",
       "3            4          -70  [up, down, down, down, up, up, up, up, down, d...\n",
       "4            5          -29                        [right, down, up, up, down]\n",
       "...        ...          ...                                                ...\n",
       "19994    19995           39  [right, right, right, up, right, left, left, u...\n",
       "19995    19996           39  [right, right, right, up, right, left, left, u...\n",
       "19996    19997           39  [right, right, right, up, right, left, left, u...\n",
       "19997    19998           39  [right, right, right, up, right, left, left, u...\n",
       "19998    19999           39  [right, right, right, up, right, left, left, u...\n",
       "\n",
       "[19999 rows x 3 columns]"
      ]
     },
     "execution_count": 32,
     "metadata": {},
     "output_type": "execute_result"
    }
   ],
   "source": [
    "q1_df"
   ]
  },
  {
   "cell_type": "code",
   "execution_count": 117,
   "metadata": {},
   "outputs": [
    {
     "data": {
      "image/png": "[encoded data removed]",
      "text/plain": [
       "<Figure size 1080x360 with 1 Axes>"
      ]
     },
     "metadata": {},
     "output_type": "display_data"
    }
   ],
   "source": [
    "pyplot.figure(figsize=(15, 5))\n",
    "pyplot.plot(range(1, 20000), q2_df[\"total value\"], \"b.\")\n",
    "pyplot.ylabel(\"Total value\")\n",
    "pyplot.xlabel(\"Episode\")\n",
    "pyplot.subplots_adjust(bottom=0.15)\n",
    "pyplot.savefig(\"pick-up-training-safe-agent.png\", dpi=300)"
   ]
  },
  {
   "cell_type": "code",
   "execution_count": 118,
   "metadata": {},
   "outputs": [
    {
     "data": {
      "image/png": "[encoded data removed]",
      "text/plain": [
       "<Figure size 1080x360 with 1 Axes>"
      ]
     },
     "metadata": {},
     "output_type": "display_data"
    }
   ],
   "source": [
    "q3_df = episodes_to_df(q3_episodes)\n",
    "\n",
    "pyplot.figure(figsize=(15, 5))\n",
    "pyplot.plot(range(1, 20000), q3_df[\"total value\"], \"b.\")\n",
    "pyplot.ylabel(\"Total value\", fontsize=20)\n",
    "pyplot.xlabel(\"Episode\", fontsize=20)\n",
    "pyplot.subplots_adjust(bottom=0.15)\n",
    "pyplot.savefig(\"pick-up-training-even-agent.png\", dpi=300)"
   ]
  },
  {
   "cell_type": "code",
   "execution_count": 10,
   "metadata": {},
   "outputs": [
    {
     "data": {
      "text/html": [
       "<div>\n",
       "<style scoped>\n",
       "    .dataframe tbody tr th:only-of-type {\n",
       "        vertical-align: middle;\n",
       "    }\n",
       "\n",
       "    .dataframe tbody tr th {\n",
       "        vertical-align: top;\n",
       "    }\n",
       "\n",
       "    .dataframe thead th {\n",
       "        text-align: right;\n",
       "    }\n",
       "</style>\n",
       "<table border=\"1\" class=\"dataframe\">\n",
       "  <thead>\n",
       "    <tr style=\"text-align: right;\">\n",
       "      <th></th>\n",
       "      <th>episode</th>\n",
       "      <th>total value</th>\n",
       "      <th>actions</th>\n",
       "    </tr>\n",
       "  </thead>\n",
       "  <tbody>\n",
       "    <tr>\n",
       "      <th>0</th>\n",
       "      <td>1</td>\n",
       "      <td>-60</td>\n",
       "      <td>[up, up, up, up, up, up, up, up, up, up, up, u...</td>\n",
       "    </tr>\n",
       "    <tr>\n",
       "      <th>1</th>\n",
       "      <td>2</td>\n",
       "      <td>-50</td>\n",
       "      <td>[up, up, down, up, down, up, down, up, down, u...</td>\n",
       "    </tr>\n",
       "    <tr>\n",
       "      <th>2</th>\n",
       "      <td>3</td>\n",
       "      <td>-60</td>\n",
       "      <td>[up, down, up, down, up, down, up, down, up, d...</td>\n",
       "    </tr>\n",
       "    <tr>\n",
       "      <th>3</th>\n",
       "      <td>4</td>\n",
       "      <td>-60</td>\n",
       "      <td>[up, down, up, down, up, down, up, down, up, d...</td>\n",
       "    </tr>\n",
       "    <tr>\n",
       "      <th>4</th>\n",
       "      <td>5</td>\n",
       "      <td>-50</td>\n",
       "      <td>[up, down, up, down, up, down, up, down, up, d...</td>\n",
       "    </tr>\n",
       "    <tr>\n",
       "      <th>...</th>\n",
       "      <td>...</td>\n",
       "      <td>...</td>\n",
       "      <td>...</td>\n",
       "    </tr>\n",
       "    <tr>\n",
       "      <th>19994</th>\n",
       "      <td>19995</td>\n",
       "      <td>50</td>\n",
       "      <td>[up, up, right, up, right, right, right, right...</td>\n",
       "    </tr>\n",
       "    <tr>\n",
       "      <th>19995</th>\n",
       "      <td>19996</td>\n",
       "      <td>50</td>\n",
       "      <td>[up, up, right, up, right, right, right, right...</td>\n",
       "    </tr>\n",
       "    <tr>\n",
       "      <th>19996</th>\n",
       "      <td>19997</td>\n",
       "      <td>50</td>\n",
       "      <td>[up, up, right, up, right, right, right, right...</td>\n",
       "    </tr>\n",
       "    <tr>\n",
       "      <th>19997</th>\n",
       "      <td>19998</td>\n",
       "      <td>50</td>\n",
       "      <td>[up, up, right, up, right, right, right, right...</td>\n",
       "    </tr>\n",
       "    <tr>\n",
       "      <th>19998</th>\n",
       "      <td>19999</td>\n",
       "      <td>50</td>\n",
       "      <td>[up, up, right, up, right, right, right, right...</td>\n",
       "    </tr>\n",
       "  </tbody>\n",
       "</table>\n",
       "<p>19999 rows × 3 columns</p>\n",
       "</div>"
      ],
      "text/plain": [
       "       episode  total value                                            actions\n",
       "0            1          -60  [up, up, up, up, up, up, up, up, up, up, up, u...\n",
       "1            2          -50  [up, up, down, up, down, up, down, up, down, u...\n",
       "2            3          -60  [up, down, up, down, up, down, up, down, up, d...\n",
       "3            4          -60  [up, down, up, down, up, down, up, down, up, d...\n",
       "4            5          -50  [up, down, up, down, up, down, up, down, up, d...\n",
       "...        ...          ...                                                ...\n",
       "19994    19995           50  [up, up, right, up, right, right, right, right...\n",
       "19995    19996           50  [up, up, right, up, right, right, right, right...\n",
       "19996    19997           50  [up, up, right, up, right, right, right, right...\n",
       "19997    19998           50  [up, up, right, up, right, right, right, right...\n",
       "19998    19999           50  [up, up, right, up, right, right, right, right...\n",
       "\n",
       "[19999 rows x 3 columns]"
      ]
     },
     "execution_count": 10,
     "metadata": {},
     "output_type": "execute_result"
    }
   ],
   "source": [
    "q2_df"
   ]
  },
  {
   "cell_type": "code",
   "execution_count": 11,
   "metadata": {},
   "outputs": [
    {
     "data": {
      "text/plain": [
       "50"
      ]
     },
     "execution_count": 11,
     "metadata": {},
     "output_type": "execute_result"
    }
   ],
   "source": [
    "np.max(q2_df[\"total value\"])"
   ]
  },
  {
   "cell_type": "code",
   "execution_count": 12,
   "metadata": {},
   "outputs": [],
   "source": [
    "def create_state_value(\n",
    "    q_table,\n",
    "    height=6,\n",
    "    width=7,\n",
    "    weight_function=lambda x: x[0],\n",
    "):\n",
    "    state_values = list()\n",
    "    for i in range(5):\n",
    "        before_pickup = [0] * width * height\n",
    "        after_pickup = [0] * width * height\n",
    "        for ((position, damage, pickup), v) in q_table.items():\n",
    "            if damage == i:\n",
    "                if pickup == False:\n",
    "                    before_pickup[position] = np.max(list(map(weight_function, v)))\n",
    "                else:\n",
    "                    after_pickup[position] = np.max(list(map(weight_function, v)))\n",
    "        state_values.append((before_pickup, after_pickup))\n",
    "    return state_values"
   ]
  },
  {
   "cell_type": "code",
   "execution_count": 13,
   "metadata": {},
   "outputs": [
    {
     "data": {
      "text/plain": [
       "[-1.543459535043608,\n",
       " -1.4207805983496782,\n",
       " -1.353055643144457,\n",
       " -1.0927663584310576,\n",
       " -0.6424866531389822,\n",
       " -0.378211071241,\n",
       " -0.28,\n",
       " -1.750981333060049,\n",
       " -1.7047491551101586,\n",
       " -1.5326083874441143,\n",
       " -0.9422497993848434,\n",
       " -0.2918374461874446,\n",
       " 0.0,\n",
       " -0.1,\n",
       " -1.856524998884888,\n",
       " -1.0799684253419595,\n",
       " 8.057858727639744,\n",
       " 10.885972271339783,\n",
       " 0.0,\n",
       " 0,\n",
       " -0.1,\n",
       " -1.9900000000000002,\n",
       " 7.164808394318187,\n",
       " 10.920706405999894,\n",
       " 13.245229339999891,\n",
       " 0.0,\n",
       " -0.199,\n",
       " -0.20791,\n",
       " -2.0293146522724337,\n",
       " -2.071161273943184,\n",
       " -1.8640808398832962,\n",
       " 8.527878750176612,\n",
       " 12.365678167638846,\n",
       " -0.4274200000000001,\n",
       " -0.29701,\n",
       " -2.0288343621235896,\n",
       " -2.0923110469884207,\n",
       " -1.79269475578906,\n",
       " -1.3975757291704882,\n",
       " 0,\n",
       " -0.27753984587719077,\n",
       " -0.2981124473588874]"
      ]
     },
     "execution_count": 13,
     "metadata": {},
     "output_type": "execute_result"
    }
   ],
   "source": [
    "state_values = create_state_value(q1.Q)\n",
    "state_values[1][0]"
   ]
  },
  {
   "cell_type": "code",
   "execution_count": 14,
   "metadata": {},
   "outputs": [],
   "source": [
    "import seaborn as sns\n",
    "import matplotlib.cm as cm\n",
    "\n",
    "sns.set(font_scale=1.4, rc={\"text.usetex\": True})\n",
    "sns.set_theme()"
   ]
  },
  {
   "cell_type": "code",
   "execution_count": 15,
   "metadata": {},
   "outputs": [
    {
     "name": "stderr",
     "output_type": "stream",
     "text": [
      "/var/folders/dr/0vrw5h593pb67z126ltf52sh0000gn/T/ipykernel_3364/2469228555.py:4: UserWarning: FixedFormatter should only be used together with FixedLocator\n",
      "  cbar_ax.set_yticklabels(cbar_ax.get_ymajorticklabels(), fontsize=20)\n",
      "/var/folders/dr/0vrw5h593pb67z126ltf52sh0000gn/T/ipykernel_3364/2469228555.py:33: UserWarning: This figure includes Axes that are not compatible with tight_layout, so results might be incorrect.\n",
      "  fig.tight_layout(rect=[0, 0, 0.9, 1])\n"
     ]
    },
    {
     "data": {
      "image/png": "[encoded data removed]",
      "text/plain": [
       "<Figure size 1080x360 with 11 Axes>"
      ]
     },
     "metadata": {},
     "output_type": "display_data"
    }
   ],
   "source": [
    "fig, axes = pyplot.subplots(2, 5, sharex=\"none\", sharey=\"none\", figsize=(15, 5))\n",
    "# axes[-1, ].axis(\"off\")\n",
    "cbar_ax = fig.add_axes([0.91, 0.3, 0.03, 0.4])\n",
    "cbar_ax.set_yticklabels(cbar_ax.get_ymajorticklabels(), fontsize=20)\n",
    "# char = [\"(a)\", \"(b)\", \"(c)\", \"(d)\", \"(e)\", \"(f)\", \"(g)\", \"(h)\", \"(i)\", \"(j)\"]\n",
    "for i, ax in enumerate(axes.flat):\n",
    "    pickup = 0\n",
    "    if i >= 5:\n",
    "        pickup = 1\n",
    "    arr = state_values[int(i % 5)][pickup]\n",
    "    arr = np.reshape(arr, (6, 7))\n",
    "    arr = np.ma.masked_equal(arr, 0)\n",
    "    ax = sns.heatmap(\n",
    "        arr,\n",
    "        ax=ax,\n",
    "        vmin=-30,\n",
    "        vmax=30,\n",
    "        center=0,\n",
    "        cmap=cm.GnBu_r,  # sns.color_palette(\"rocket\", as_cmap=True),\n",
    "        linewidths=2,\n",
    "        cbar=i == 0,\n",
    "        mask=arr == 0,\n",
    "        xticklabels=False,\n",
    "        yticklabels=False,\n",
    "        cbar_ax=None if i else cbar_ax,\n",
    "    )\n",
    "\n",
    "    if i % 5 == 0:\n",
    "        ax.set_ylabel(\"Pickup = \" + str(pickup), fontsize=20)\n",
    "    if i >= 5:\n",
    "        ax.set_xlabel(\" Damage = \" + str((i % 5)), fontsize=20)\n",
    "    ax.patch.set(hatch=\"XX\", edgecolor=\"black\")\n",
    "fig.tight_layout(rect=[0, 0, 0.9, 1])\n",
    "\n",
    "pyplot.savefig(\"pick-up-and-deliver-speed-agent.png\", dpi=300)"
   ]
  },
  {
   "cell_type": "code",
   "execution_count": 16,
   "metadata": {},
   "outputs": [],
   "source": [
    "state_values_q2 = create_state_value(q2.Q, weight_function=lambda x: x[1])"
   ]
  },
  {
   "cell_type": "code",
   "execution_count": 17,
   "metadata": {},
   "outputs": [
    {
     "name": "stderr",
     "output_type": "stream",
     "text": [
      "/var/folders/dr/0vrw5h593pb67z126ltf52sh0000gn/T/ipykernel_3364/3657627525.py:4: UserWarning: FixedFormatter should only be used together with FixedLocator\n",
      "  cbar_ax.set_yticklabels(cbar_ax.get_ymajorticklabels(), fontsize=20)\n",
      "/var/folders/dr/0vrw5h593pb67z126ltf52sh0000gn/T/ipykernel_3364/3657627525.py:33: UserWarning: This figure includes Axes that are not compatible with tight_layout, so results might be incorrect.\n",
      "  fig.tight_layout(rect=[0, 0, 0.9, 1])\n"
     ]
    },
    {
     "data": {
      "image/png": "[encoded data removed]",
      "text/plain": [
       "<Figure size 1080x360 with 11 Axes>"
      ]
     },
     "metadata": {},
     "output_type": "display_data"
    }
   ],
   "source": [
    "fig, axes = pyplot.subplots(2, 5, sharex=\"none\", sharey=\"none\", figsize=(15, 5))\n",
    "# axes[-1, ].axis(\"off\")\n",
    "cbar_ax = fig.add_axes([0.91, 0.3, 0.03, 0.4])\n",
    "cbar_ax.set_yticklabels(cbar_ax.get_ymajorticklabels(), fontsize=20)\n",
    "# char = [\"(a)\", \"(b)\", \"(c)\", \"(d)\", \"(e)\", \"(f)\", \"(g)\", \"(h)\", \"(i)\", \"(j)\"]\n",
    "for i, ax in enumerate(axes.flat):\n",
    "    pickup = 0\n",
    "    if i >= 5:\n",
    "        pickup = 1\n",
    "    arr = state_values_q2[int(i % 5)][pickup]\n",
    "    arr = np.reshape(arr, (6, 7))\n",
    "    arr = np.ma.masked_equal(arr, 0)\n",
    "    ax = sns.heatmap(\n",
    "        arr,\n",
    "        ax=ax,\n",
    "        vmin=-50,\n",
    "        vmax=50,\n",
    "        center=0,\n",
    "        cmap=cm.GnBu_r,  # sns.color_palette(\"rocket\", as_cmap=True),\n",
    "        linewidths=2,\n",
    "        cbar=i == 0,\n",
    "        mask=arr == 0,\n",
    "        xticklabels=False,\n",
    "        yticklabels=False,\n",
    "        cbar_ax=None if i else cbar_ax,\n",
    "    )\n",
    "\n",
    "    if i % 5 == 0:\n",
    "        ax.set_ylabel(\"Pickup = \" + str(pickup), fontsize=20)\n",
    "    if i >= 5:\n",
    "        ax.set_xlabel(\" Damage = \" + str((i % 5)), fontsize=20)\n",
    "    ax.patch.set(hatch=\"XX\", edgecolor=\"black\")\n",
    "fig.tight_layout(rect=[0, 0, 0.9, 1])\n",
    "\n",
    "pyplot.savefig(\"pick-up-and-deliver-safety-agent.png\", dpi=300)"
   ]
  },
  {
   "cell_type": "code",
   "execution_count": 18,
   "metadata": {},
   "outputs": [],
   "source": [
    "def get_weight_function(alpha):\n",
    "    return lambda x: ((1 - alpha) * x[0] + (alpha * (x[1])))"
   ]
  },
  {
   "cell_type": "code",
   "execution_count": 19,
   "metadata": {},
   "outputs": [],
   "source": [
    "q1.explore_rate = 0\n",
    "q1.learning_rate = 0\n",
    "episodes = []\n",
    "for alpha in range(0, 101, 1):\n",
    "    alpha = alpha / 100\n",
    "    totalValue = np.array([0, 0])\n",
    "    world = env()\n",
    "    q1.start_episode(world.current_state())\n",
    "    q1._weight_function = get_weight_function(alpha)\n",
    "    end = False\n",
    "    while end != True:\n",
    "        action = q1.act(world.current_state())\n",
    "        value, end = world.act(action)\n",
    "        totalValue = np.add(totalValue, value)\n",
    "\n",
    "    q1.end_episode()\n",
    "    episodes.append((alpha, totalValue))"
   ]
  },
  {
   "cell_type": "code",
   "execution_count": 20,
   "metadata": {},
   "outputs": [
    {
     "data": {
      "text/plain": [
       "[(0.0, array([39, 10])),\n",
       " (0.01, array([39, 10])),\n",
       " (0.02, array([39, 10])),\n",
       " (0.03, array([39, 10])),\n",
       " (0.04, array([39, 10])),\n",
       " (0.05, array([39, 10])),\n",
       " (0.06, array([39, 10])),\n",
       " (0.07, array([39, 10])),\n",
       " (0.08, array([39, 10])),\n",
       " (0.09, array([39, 10])),\n",
       " (0.1, array([39, 10])),\n",
       " (0.11, array([39, 10])),\n",
       " (0.12, array([39, 10])),\n",
       " (0.13, array([39, 10])),\n",
       " (0.14, array([39, 10])),\n",
       " (0.15, array([39, 10])),\n",
       " (0.16, array([39, 10])),\n",
       " (0.17, array([39, 10])),\n",
       " (0.18, array([39, 10])),\n",
       " (0.19, array([39, 10])),\n",
       " (0.2, array([39, 10])),\n",
       " (0.21, array([39, 10])),\n",
       " (0.22, array([39, 10])),\n",
       " (0.23, array([39, 10])),\n",
       " (0.24, array([39, 10])),\n",
       " (0.25, array([39, 10])),\n",
       " (0.26, array([39, 10])),\n",
       " (0.27, array([39, 10])),\n",
       " (0.28, array([39, 10])),\n",
       " (0.29, array([39, 10])),\n",
       " (0.3, array([39, 10])),\n",
       " (0.31, array([39, 10])),\n",
       " (0.32, array([39, 10])),\n",
       " (0.33, array([39, 10])),\n",
       " (0.34, array([39, 10])),\n",
       " (0.35, array([39, 10])),\n",
       " (0.36, array([-74, -50])),\n",
       " (0.37, array([-74, -50])),\n",
       " (0.38, array([-74, -50])),\n",
       " (0.39, array([-74, -50])),\n",
       " (0.4, array([-74, -50])),\n",
       " (0.41, array([-74, -50])),\n",
       " (0.42, array([-74, -50])),\n",
       " (0.43, array([-74, -50])),\n",
       " (0.44, array([-74, -50])),\n",
       " (0.45, array([-74, -50])),\n",
       " (0.46, array([-74, -50])),\n",
       " (0.47, array([-74, -50])),\n",
       " (0.48, array([-74, -50])),\n",
       " (0.49, array([-74, -50])),\n",
       " (0.5, array([-74, -50])),\n",
       " (0.51, array([-74, -50])),\n",
       " (0.52, array([-74, -50])),\n",
       " (0.53, array([-74, -50])),\n",
       " (0.54, array([-74, -50])),\n",
       " (0.55, array([-74, -50])),\n",
       " (0.56, array([-74, -50])),\n",
       " (0.57, array([-74, -50])),\n",
       " (0.58, array([-74, -50])),\n",
       " (0.59, array([-74, -50])),\n",
       " (0.6, array([-74, -50])),\n",
       " (0.61, array([-74, -50])),\n",
       " (0.62, array([-74, -50])),\n",
       " (0.63, array([-74, -50])),\n",
       " (0.64, array([-74, -50])),\n",
       " (0.65, array([-74, -50])),\n",
       " (0.66, array([-74, -50])),\n",
       " (0.67, array([-74, -50])),\n",
       " (0.68, array([-74, -50])),\n",
       " (0.69, array([-74, -50])),\n",
       " (0.7, array([-74, -50])),\n",
       " (0.71, array([-74, -50])),\n",
       " (0.72, array([-74, -50])),\n",
       " (0.73, array([-74, -50])),\n",
       " (0.74, array([-74, -50])),\n",
       " (0.75, array([-74, -50])),\n",
       " (0.76, array([-74, -50])),\n",
       " (0.77, array([-74, -50])),\n",
       " (0.78, array([-74, -50])),\n",
       " (0.79, array([-74, -50])),\n",
       " (0.8, array([-74, -50])),\n",
       " (0.81, array([-74, -50])),\n",
       " (0.82, array([-74, -50])),\n",
       " (0.83, array([-74, -50])),\n",
       " (0.84, array([-74, -50])),\n",
       " (0.85, array([-74, -50])),\n",
       " (0.86, array([-74, -50])),\n",
       " (0.87, array([-74, -50])),\n",
       " (0.88, array([-74, -50])),\n",
       " (0.89, array([-74, -50])),\n",
       " (0.9, array([-74, -50])),\n",
       " (0.91, array([-74, -50])),\n",
       " (0.92, array([-74, -50])),\n",
       " (0.93, array([-74, -50])),\n",
       " (0.94, array([-74, -50])),\n",
       " (0.95, array([-74, -50])),\n",
       " (0.96, array([-74, -50])),\n",
       " (0.97, array([-74, -50])),\n",
       " (0.98, array([-74, -50])),\n",
       " (0.99, array([-74, -50])),\n",
       " (1.0, array([-74, -50]))]"
      ]
     },
     "execution_count": 20,
     "metadata": {},
     "output_type": "execute_result"
    }
   ],
   "source": [
    "episodes"
   ]
  },
  {
   "cell_type": "code",
   "execution_count": 21,
   "metadata": {},
   "outputs": [],
   "source": [
    "q2.explore_rate = 0\n",
    "q2.learning_rate = 0\n",
    "episodes_q2 = []\n",
    "for alpha in range(100, -1, -1):\n",
    "    alpha = alpha / 100\n",
    "    totalValue = np.array([0, 0])\n",
    "    world = env()\n",
    "    q2.start_episode(world.current_state())\n",
    "    q2._weight_function = get_weight_function(alpha)\n",
    "    end = False\n",
    "    while end != True:\n",
    "        action = q2.act(world.current_state())\n",
    "        value, end = world.act(action)\n",
    "        totalValue = np.add(totalValue, value)\n",
    "    q2.end_episode()\n",
    "    episodes_q2.append((alpha, totalValue))"
   ]
  },
  {
   "cell_type": "code",
   "execution_count": 22,
   "metadata": {},
   "outputs": [
    {
     "data": {
      "text/plain": [
       "[(1.0, array([29, 50])),\n",
       " (0.99, array([29, 50])),\n",
       " (0.98, array([29, 50])),\n",
       " (0.97, array([29, 50])),\n",
       " (0.96, array([29, 50])),\n",
       " (0.95, array([29, 50])),\n",
       " (0.94, array([29, 50])),\n",
       " (0.93, array([29, 50])),\n",
       " (0.92, array([29, 50])),\n",
       " (0.91, array([29, 50])),\n",
       " (0.9, array([29, 50])),\n",
       " (0.89, array([29, 50])),\n",
       " (0.88, array([29, 50])),\n",
       " (0.87, array([29, 50])),\n",
       " (0.86, array([29, 50])),\n",
       " (0.85, array([29, 50])),\n",
       " (0.84, array([29, 50])),\n",
       " (0.83, array([29, 50])),\n",
       " (0.82, array([29, 50])),\n",
       " (0.81, array([29, 50])),\n",
       " (0.8, array([29, 50])),\n",
       " (0.79, array([29, 50])),\n",
       " (0.78, array([29, 50])),\n",
       " (0.77, array([29, 50])),\n",
       " (0.76, array([29, 50])),\n",
       " (0.75, array([29, 50])),\n",
       " (0.74, array([33, 40])),\n",
       " (0.73, array([33, 40])),\n",
       " (0.72, array([33, 40])),\n",
       " (0.71, array([33, 40])),\n",
       " (0.7, array([33, 40])),\n",
       " (0.69, array([33, 40])),\n",
       " (0.68, array([33, 40])),\n",
       " (0.67, array([33, 40])),\n",
       " (0.66, array([33, 40])),\n",
       " (0.65, array([33, 40])),\n",
       " (0.64, array([33, 40])),\n",
       " (0.63, array([33, 40])),\n",
       " (0.62, array([33, 40])),\n",
       " (0.61, array([33, 40])),\n",
       " (0.6, array([33, 40])),\n",
       " (0.59, array([33, 40])),\n",
       " (0.58, array([33, 40])),\n",
       " (0.57, array([33, 40])),\n",
       " (0.56, array([33, 40])),\n",
       " (0.55, array([33, 40])),\n",
       " (0.54, array([33, 40])),\n",
       " (0.53, array([33, 40])),\n",
       " (0.52, array([33, 40])),\n",
       " (0.51, array([33, 40])),\n",
       " (0.5, array([33, 40])),\n",
       " (0.49, array([33, 40])),\n",
       " (0.48, array([33, 40])),\n",
       " (0.47, array([33, 40])),\n",
       " (0.46, array([33, 40])),\n",
       " (0.45, array([33, 40])),\n",
       " (0.44, array([33, 40])),\n",
       " (0.43, array([33, 40])),\n",
       " (0.42, array([33, 40])),\n",
       " (0.41, array([33, 40])),\n",
       " (0.4, array([33, 40])),\n",
       " (0.39, array([33, 40])),\n",
       " (0.38, array([33, 40])),\n",
       " (0.37, array([33, 40])),\n",
       " (0.36, array([33, 40])),\n",
       " (0.35, array([33, 40])),\n",
       " (0.34, array([33, 40])),\n",
       " (0.33, array([33, 40])),\n",
       " (0.32, array([33, 40])),\n",
       " (0.31, array([33, 40])),\n",
       " (0.3, array([33, 40])),\n",
       " (0.29, array([33, 40])),\n",
       " (0.28, array([33, 40])),\n",
       " (0.27, array([33, 40])),\n",
       " (0.26, array([33, 40])),\n",
       " (0.25, array([33, 40])),\n",
       " (0.24, array([33, 40])),\n",
       " (0.23, array([33, 40])),\n",
       " (0.22, array([33, 40])),\n",
       " (0.21, array([33, 40])),\n",
       " (0.2, array([33, 40])),\n",
       " (0.19, array([33, 40])),\n",
       " (0.18, array([33, 40])),\n",
       " (0.17, array([33, 40])),\n",
       " (0.16, array([33, 40])),\n",
       " (0.15, array([33, 40])),\n",
       " (0.14, array([33, 40])),\n",
       " (0.13, array([33, 40])),\n",
       " (0.12, array([33, 40])),\n",
       " (0.11, array([33, 40])),\n",
       " (0.1, array([33, 40])),\n",
       " (0.09, array([33, 40])),\n",
       " (0.08, array([33, 40])),\n",
       " (0.07, array([33, 40])),\n",
       " (0.06, array([33, 40])),\n",
       " (0.05, array([33, 40])),\n",
       " (0.04, array([33, 40])),\n",
       " (0.03, array([33, 40])),\n",
       " (0.02, array([-31, -65])),\n",
       " (0.01, array([-31, -65])),\n",
       " (0.0, array([-31, -65]))]"
      ]
     },
     "execution_count": 22,
     "metadata": {},
     "output_type": "execute_result"
    }
   ],
   "source": [
    "episodes_q2"
   ]
  },
  {
   "cell_type": "code",
   "execution_count": 23,
   "metadata": {},
   "outputs": [],
   "source": [
    "state_values_q3 = create_state_value(q3.Q)"
   ]
  },
  {
   "cell_type": "code",
   "execution_count": 24,
   "metadata": {},
   "outputs": [
    {
     "name": "stderr",
     "output_type": "stream",
     "text": [
      "/var/folders/dr/0vrw5h593pb67z126ltf52sh0000gn/T/ipykernel_3364/3237190591.py:4: UserWarning: FixedFormatter should only be used together with FixedLocator\n",
      "  cbar_ax.set_yticklabels(cbar_ax.get_ymajorticklabels(), fontsize=20)\n",
      "/var/folders/dr/0vrw5h593pb67z126ltf52sh0000gn/T/ipykernel_3364/3237190591.py:33: UserWarning: This figure includes Axes that are not compatible with tight_layout, so results might be incorrect.\n",
      "  fig.tight_layout(rect=[0, 0, 0.9, 1])\n"
     ]
    },
    {
     "data": {
      "image/png": "[encoded data removed]",
      "text/plain": [
       "<Figure size 1080x360 with 11 Axes>"
      ]
     },
     "metadata": {},
     "output_type": "display_data"
    }
   ],
   "source": [
    "fig, axes = pyplot.subplots(2, 5, sharex=\"none\", sharey=\"none\", figsize=(15, 5))\n",
    "# axes[-1, ].axis(\"off\")\n",
    "cbar_ax = fig.add_axes([0.91, 0.3, 0.03, 0.4])\n",
    "cbar_ax.set_yticklabels(cbar_ax.get_ymajorticklabels(), fontsize=20)\n",
    "# char = [\"(a)\", \"(b)\", \"(c)\", \"(d)\", \"(e)\", \"(f)\", \"(g)\", \"(h)\", \"(i)\", \"(j)\"]\n",
    "for i, ax in enumerate(axes.flat):\n",
    "    pickup = 0\n",
    "    if i >= 5:\n",
    "        pickup = 1\n",
    "    arr = state_values_q3[int(i % 5)][pickup]\n",
    "    arr = np.reshape(arr, (6, 7))\n",
    "    arr = np.ma.masked_equal(arr, 0)\n",
    "    ax = sns.heatmap(\n",
    "        arr,\n",
    "        ax=ax,\n",
    "        vmin=-50,\n",
    "        vmax=50,\n",
    "        center=0,\n",
    "        cmap=cm.GnBu_r,  # sns.color_palette(\"rocket\", as_cmap=True),\n",
    "        linewidths=2,\n",
    "        cbar=i == 0,\n",
    "        mask=arr == 0,\n",
    "        xticklabels=False,\n",
    "        yticklabels=False,\n",
    "        cbar_ax=None if i else cbar_ax,\n",
    "    )\n",
    "\n",
    "    if i % 5 == 0:\n",
    "        ax.set_ylabel(\"Pickup = \" + str(pickup), fontsize=20)\n",
    "    if i >= 5:\n",
    "        ax.set_xlabel(\" Damage = \" + str((i % 5)), fontsize=20)\n",
    "    ax.patch.set(hatch=\"XX\", edgecolor=\"black\")\n",
    "fig.tight_layout(rect=[0, 0, 0.9, 1])\n",
    "\n",
    "pyplot.savefig(\"pick-up-and-deliver-even-agent.png\", dpi=300)"
   ]
  },
  {
   "cell_type": "code",
   "execution_count": 37,
   "metadata": {},
   "outputs": [],
   "source": [
    "q3.explore_rate = 0\n",
    "q3.learning_rate = 0\n",
    "episodes_q3 = []\n",
    "for alpha in range(0, 101, 1):\n",
    "    alpha = alpha / 100\n",
    "    totalValue = np.array([0, 0])\n",
    "    world = env()\n",
    "    q3.start_episode(world.current_state())\n",
    "    q3._weight_function = get_weight_function(alpha)\n",
    "    end = False\n",
    "    while end != True:\n",
    "        action = q3.act(world.current_state())\n",
    "        value, end = world.act(action)\n",
    "        totalValue = np.add(totalValue, value)\n",
    "    q3.end_episode()\n",
    "    episodes_q3.append((alpha, totalValue))"
   ]
  },
  {
   "cell_type": "code",
   "execution_count": 46,
   "metadata": {},
   "outputs": [
    {
     "data": {
      "text/plain": [
       "[(0.0, array([-74, -90])),\n",
       " (0.01, array([-74, -90])),\n",
       " (0.02, array([-74, -90])),\n",
       " (0.03, array([-74, -90])),\n",
       " (0.04, array([-74, -90])),\n",
       " (0.05, array([-74, -90])),\n",
       " (0.06, array([-74, -90])),\n",
       " (0.07, array([-74, -90])),\n",
       " (0.08, array([-74, -90])),\n",
       " (0.09, array([-74, -90])),\n",
       " (0.1, array([-74, -90])),\n",
       " (0.11, array([-74, -90])),\n",
       " (0.12, array([-74, -50])),\n",
       " (0.13, array([31, 40])),\n",
       " (0.14, array([31, 40])),\n",
       " (0.15, array([31, 40])),\n",
       " (0.16, array([31, 40])),\n",
       " (0.17, array([31, 40])),\n",
       " (0.18, array([31, 40])),\n",
       " (0.19, array([31, 40])),\n",
       " (0.2, array([31, 40])),\n",
       " (0.21, array([31, 40])),\n",
       " (0.22, array([31, 40])),\n",
       " (0.23, array([31, 40])),\n",
       " (0.24, array([31, 40])),\n",
       " (0.25, array([31, 40])),\n",
       " (0.26, array([31, 40])),\n",
       " (0.27, array([31, 40])),\n",
       " (0.28, array([31, 40])),\n",
       " (0.29, array([31, 40])),\n",
       " (0.3, array([31, 40])),\n",
       " (0.31, array([31, 40])),\n",
       " (0.32, array([31, 40])),\n",
       " (0.33, array([31, 40])),\n",
       " (0.34, array([31, 40])),\n",
       " (0.35, array([31, 40])),\n",
       " (0.36, array([31, 40])),\n",
       " (0.37, array([31, 40])),\n",
       " (0.38, array([31, 40])),\n",
       " (0.39, array([31, 40])),\n",
       " (0.4, array([31, 40])),\n",
       " (0.41, array([31, 40])),\n",
       " (0.42, array([31, 40])),\n",
       " (0.43, array([31, 40])),\n",
       " (0.44, array([31, 40])),\n",
       " (0.45, array([31, 40])),\n",
       " (0.46, array([31, 40])),\n",
       " (0.47, array([31, 40])),\n",
       " (0.48, array([31, 40])),\n",
       " (0.49, array([31, 40])),\n",
       " (0.5, array([31, 40])),\n",
       " (0.51, array([31, 40])),\n",
       " (0.52, array([31, 40])),\n",
       " (0.53, array([31, 40])),\n",
       " (0.54, array([31, 40])),\n",
       " (0.55, array([31, 40])),\n",
       " (0.56, array([31, 40])),\n",
       " (0.57, array([31, 40])),\n",
       " (0.58, array([31, 40])),\n",
       " (0.59, array([31, 40])),\n",
       " (0.6, array([31, 40])),\n",
       " (0.61, array([31, 40])),\n",
       " (0.62, array([31, 40])),\n",
       " (0.63, array([31, 40])),\n",
       " (0.64, array([31, 40])),\n",
       " (0.65, array([31, 40])),\n",
       " (0.66, array([31, 40])),\n",
       " (0.67, array([31, 40])),\n",
       " (0.68, array([31, 40])),\n",
       " (0.69, array([31, 40])),\n",
       " (0.7, array([31, 40])),\n",
       " (0.71, array([31, 40])),\n",
       " (0.72, array([31, 40])),\n",
       " (0.73, array([31, 40])),\n",
       " (0.74, array([31, 40])),\n",
       " (0.75, array([31, 40])),\n",
       " (0.76, array([31, 40])),\n",
       " (0.77, array([31, 40])),\n",
       " (0.78, array([31, 40])),\n",
       " (0.79, array([31, 40])),\n",
       " (0.8, array([31, 40])),\n",
       " (0.81, array([31, 40])),\n",
       " (0.82, array([31, 40])),\n",
       " (0.83, array([31, 40])),\n",
       " (0.84, array([31, 40])),\n",
       " (0.85, array([31, 40])),\n",
       " (0.86, array([31, 40])),\n",
       " (0.87, array([31, 40])),\n",
       " (0.88, array([31, 40])),\n",
       " (0.89, array([31, 40])),\n",
       " (0.9, array([31, 40])),\n",
       " (0.91, array([31, 40])),\n",
       " (0.92, array([31, 40])),\n",
       " (0.93, array([31, 40])),\n",
       " (0.94, array([31, 40])),\n",
       " (0.95, array([31, 40])),\n",
       " (0.96, array([31, 40])),\n",
       " (0.97, array([31, 40])),\n",
       " (0.98, array([31, 40])),\n",
       " (0.99, array([31, 40])),\n",
       " (1.0, array([31, 40]))]"
      ]
     },
     "execution_count": 46,
     "metadata": {},
     "output_type": "execute_result"
    }
   ],
   "source": [
    "episodes_q3"
   ]
  },
  {
   "cell_type": "code",
   "execution_count": 67,
   "metadata": {},
   "outputs": [],
   "source": [
    "q1_values = list(set(map(lambda x: tuple(x[1]), episodes)))\n",
    "q2_values = list(set(map(lambda x: tuple(x[1]), episodes_q2)))\n",
    "q3_values = list(set(map(lambda x: tuple(x[1]), episodes_q3)))"
   ]
  },
  {
   "cell_type": "code",
   "execution_count": 68,
   "metadata": {},
   "outputs": [
    {
     "data": {
      "text/plain": [
       "[(31, 40), (-74, -90), (-31, -65), (33, 40), (29, 50), (-74, -50)]"
      ]
     },
     "execution_count": 68,
     "metadata": {},
     "output_type": "execute_result"
    }
   ],
   "source": [
    "q2_values"
   ]
  },
  {
   "cell_type": "code",
   "execution_count": 122,
   "metadata": {},
   "outputs": [
    {
     "name": "stderr",
     "output_type": "stream",
     "text": [
      "WARNING:matplotlib.legend:No artists with labels found to put in legend.  Note that artists whose label start with an underscore are ignored when legend() is called with no argument.\n"
     ]
    },
    {
     "data": {
      "image/png": "[encoded data removed]",
      "text/plain": [
       "<Figure size 1080x360 with 3 Axes>"
      ]
     },
     "metadata": {},
     "output_type": "display_data"
    }
   ],
   "source": [
    "fig, axes = pyplot.subplots(1, 3, sharey=True, figsize=(15, 5))\n",
    "fig.supxlabel(\"Speed objective\", fontsize=20)\n",
    "fig.supylabel(\"Safety objective\", fontsize=20)\n",
    "axes[0].scatter(*zip(*q1_values), marker=\"X\", c=\"r\", s=200, label=\"$A_1$\")\n",
    "axes[1].scatter(*zip(*q2_values), marker=\"*\", c=\"g\", s=200, label=\"$A_2$\")\n",
    "axes[2].scatter(*zip(*q3_values), marker=\"o\", c=\"b\", s=200, label=\"$A_2$\")\n",
    "ax.legend()\n",
    "pyplot.subplots_adjust(bottom=0.15)\n",
    "pyplot.savefig(\"pick-up-pareto.png\", dpi=300)"
   ]
  },
  {
   "cell_type": "code",
   "execution_count": null,
   "metadata": {},
   "outputs": [],
   "source": []
  }
 ],
 "metadata": {
  "interpreter": {
   "hash": "6ff61855343d3213d97de58b65477a4f2fcbf2e4e22d43727136a2ec5ea7db03"
  },
  "kernelspec": {
   "display_name": "Python 3.10.2 ('venv': venv)",
   "language": "python",
   "name": "python3"
  },
  "language_info": {
   "codemirror_mode": {
    "name": "ipython",
    "version": 3
   },
   "file_extension": ".py",
   "mimetype": "text/x-python",
   "name": "python",
   "nbconvert_exporter": "python",
   "pygments_lexer": "ipython3",
   "version": "3.10.2"
  },
  "orig_nbformat": 4
 },
 "nbformat": 4,
 "nbformat_minor": 2
}
